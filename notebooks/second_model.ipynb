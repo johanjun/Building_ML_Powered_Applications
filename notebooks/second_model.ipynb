{
 "cells": [
  {
   "cell_type": "code",
   "execution_count": 1,
   "metadata": {
    "ExecuteTime": {
     "end_time": "2021-11-11T08:18:15.054435Z",
     "start_time": "2021-11-11T08:18:01.830181Z"
    }
   },
   "outputs": [
    {
     "name": "stderr",
     "output_type": "stream",
     "text": [
      "[nltk_data] Downloading package vader_lexicon to\n",
      "[nltk_data]     /Users/johanjun/nltk_data...\n",
      "[nltk_data]   Package vader_lexicon is already up-to-date!\n"
     ]
    }
   ],
   "source": [
    "import pandas as pd\n",
    "import numpy as np\n",
    "import matplotlib.pyplot as plt\n",
    "from pathlib import Path\n",
    "from sklearn.ensemble import RandomForestClassifier\n",
    "from sklearn.metrics import accuracy_score, f1_score, precision_score, recall_score, classification_report\n",
    "import joblib\n",
    "import sys\n",
    "sys.path.append(\"..\")\n",
    "import warnings\n",
    "warnings.filterwarnings('ignore')\n",
    "\n",
    "from ml_editor.data_processing import (\n",
    "    format_raw_df,\n",
    "    get_split_by_author,\n",
    "    train_vectorizer, \n",
    "    get_vectorized_series,\n",
    "    get_feature_vector_and_label\n",
    ")\n",
    "from ml_editor.model_evaluation import (\n",
    "    get_feature_importance,\n",
    "    get_roc_plot,\n",
    "    get_confusion_matrix_plot,\n",
    "    get_calibration_plot\n",
    ")\n",
    "\n",
    "from ml_editor.model_v2 import (\n",
    "    add_char_count_features, \n",
    "    get_word_stats, \n",
    "    get_sentiment_score, \n",
    "    POS_NAMES,\n",
    "    get_question_score_from_input\n",
    ")\n",
    "%load_ext autoreload\n",
    "%autoreload 2\n",
    "np.random.seed(35)\n",
    "\n",
    "data_path = Path('../data/writers.csv')\n",
    "df = pd.read_csv(data_path)\n",
    "df = format_raw_df(df.copy())\n",
    "df = df.loc[df[\"is_question\"]].copy()"
   ]
  },
  {
   "cell_type": "code",
   "execution_count": 2,
   "metadata": {
    "ExecuteTime": {
     "end_time": "2021-11-11T08:18:36.468739Z",
     "start_time": "2021-11-11T08:18:36.377249Z"
    }
   },
   "outputs": [],
   "source": [
    "df[\"full_text\"] = df[\"Title\"].str.cat(df[\"body_text\"], sep=\" \", na_rep=\"\")"
   ]
  },
  {
   "cell_type": "code",
   "execution_count": 3,
   "metadata": {
    "ExecuteTime": {
     "end_time": "2021-11-11T08:18:41.175626Z",
     "start_time": "2021-11-11T08:18:41.083288Z"
    }
   },
   "outputs": [],
   "source": [
    "train_df, test_df = get_split_by_author(df, test_size=0.2, random_state=40)\n"
   ]
  },
  {
   "cell_type": "code",
   "execution_count": 4,
   "metadata": {
    "ExecuteTime": {
     "end_time": "2021-11-11T08:18:49.412382Z",
     "start_time": "2021-11-11T08:18:46.728433Z"
    }
   },
   "outputs": [],
   "source": [
    "vectorizer = train_vectorizer(train_df)\n",
    "df[\"vectors\"] = get_vectorized_series(df[\"full_text\"].copy(), vectorizer)"
   ]
  },
  {
   "cell_type": "code",
   "execution_count": 5,
   "metadata": {
    "ExecuteTime": {
     "end_time": "2021-11-11T08:22:51.444972Z",
     "start_time": "2021-11-11T08:18:56.950395Z"
    }
   },
   "outputs": [
    {
     "name": "stderr",
     "output_type": "stream",
     "text": [
      "100%|██████████| 7971/7971 [03:39<00:00, 36.27it/s]\n",
      "100%|██████████| 7971/7971 [00:12<00:00, 652.90it/s]\n"
     ]
    }
   ],
   "source": [
    "df = add_char_count_features(df.copy())\n",
    "df = get_word_stats(df.copy())\n",
    "df = get_sentiment_score(df.copy())"
   ]
  },
  {
   "cell_type": "code",
   "execution_count": 6,
   "metadata": {
    "ExecuteTime": {
     "end_time": "2021-11-11T08:23:17.170423Z",
     "start_time": "2021-11-11T08:23:17.014234Z"
    }
   },
   "outputs": [],
   "source": [
    "feature_arr = [\"num_questions\", \n",
    "               \"num_periods\",\n",
    "               \"num_commas\",\n",
    "               \"num_exclam\",\n",
    "               \"num_quotes\",\n",
    "               \"num_colon\",\n",
    "               \"num_stops\",\n",
    "               \"num_semicolon\",\n",
    "               \"num_words\",\n",
    "               \"num_chars\",\n",
    "               \"num_diff_words\",\n",
    "               \"avg_word_len\",\n",
    "               \"polarity\"\n",
    "              ]\n",
    "feature_arr.extend(POS_NAMES.keys())"
   ]
  },
  {
   "cell_type": "code",
   "execution_count": 7,
   "metadata": {
    "ExecuteTime": {
     "end_time": "2021-11-11T08:23:24.830904Z",
     "start_time": "2021-11-11T08:23:24.697661Z"
    }
   },
   "outputs": [],
   "source": [
    "train_df, test_df = get_split_by_author(df, test_size=0.2, random_state=40)"
   ]
  },
  {
   "cell_type": "code",
   "execution_count": 8,
   "metadata": {
    "ExecuteTime": {
     "end_time": "2021-11-11T08:23:30.588464Z",
     "start_time": "2021-11-11T08:23:30.355874Z"
    }
   },
   "outputs": [],
   "source": [
    "X_train, y_train = get_feature_vector_and_label(train_df, feature_arr)\n",
    "X_test, y_test = get_feature_vector_and_label(test_df, feature_arr)"
   ]
  },
  {
   "cell_type": "code",
   "execution_count": 9,
   "metadata": {
    "ExecuteTime": {
     "end_time": "2021-11-11T08:23:45.653053Z",
     "start_time": "2021-11-11T08:23:37.592993Z"
    }
   },
   "outputs": [],
   "source": [
    "clf = RandomForestClassifier(n_estimators=100, class_weight='balanced', oob_score=True)\n",
    "clf.fit(X_train, y_train)\n",
    "\n",
    "y_predicted = clf.predict(X_test)\n",
    "y_predicted_proba = clf.predict_proba(X_test)"
   ]
  },
  {
   "cell_type": "code",
   "execution_count": 10,
   "metadata": {
    "ExecuteTime": {
     "end_time": "2021-11-11T08:23:46.816355Z",
     "start_time": "2021-11-11T08:23:46.704821Z"
    }
   },
   "outputs": [
    {
     "name": "stdout",
     "output_type": "stream",
     "text": [
      "훈련 정확도 = 0.593, 정밀도 = 0.570, recall = 0.461, f1 = 0.510\n"
     ]
    }
   ],
   "source": [
    "def get_metrics(y_test, y_predicted):  \n",
    "    # 진짜 양성 / (진짜 양성 + 가짜 양성)\n",
    "    precision = precision_score(y_test, y_predicted, pos_label=True,\n",
    "                                    average='binary')             \n",
    "    # 진짜 양성 / (진짜 양성 + 가짜 음성)\n",
    "    recall = recall_score(y_test, y_predicted, pos_label=True,\n",
    "                              average='binary')\n",
    "    \n",
    "    # 정밀도와 재현율의 조화 평균\n",
    "    f1 = f1_score(y_test, y_predicted, pos_label=True, average='binary')\n",
    "    \n",
    "    # 진짜 양성 + 진짜 음성 / 전체\n",
    "    accuracy = accuracy_score(y_test, y_predicted)\n",
    "    return accuracy, precision, recall, f1\n",
    "\n",
    "\n",
    "# 훈련 정확도\n",
    "# https://datascience.stackexchange.com/questions/13151/randomforestclassifier-oob-scoring-method 참고\n",
    "y_train_pred = np.argmax(clf.oob_decision_function_,axis=1)\n",
    "\n",
    "accuracy, precision, recall, f1 = get_metrics(y_train, y_train_pred)\n",
    "print(\"훈련 정확도 = %.3f, 정밀도 = %.3f, recall = %.3f, f1 = %.3f\" % (accuracy, precision, recall, f1))"
   ]
  },
  {
   "cell_type": "code",
   "execution_count": 11,
   "metadata": {
    "ExecuteTime": {
     "end_time": "2021-11-11T08:24:02.785958Z",
     "start_time": "2021-11-11T08:24:02.691289Z"
    }
   },
   "outputs": [
    {
     "name": "stdout",
     "output_type": "stream",
     "text": [
      "검증 정확도 = 0.601, 정밀도 = 0.608, recall = 0.517, f1 = 0.559\n"
     ]
    }
   ],
   "source": [
    "accuracy, precision, recall, f1 = get_metrics(y_test, y_predicted)\n",
    "print(\"검증 정확도 = %.3f, 정밀도 = %.3f, recall = %.3f, f1 = %.3f\" % (accuracy, precision, recall, f1))"
   ]
  },
  {
   "cell_type": "code",
   "execution_count": 12,
   "metadata": {
    "ExecuteTime": {
     "end_time": "2021-11-11T08:24:21.775449Z",
     "start_time": "2021-11-11T08:24:21.342931Z"
    }
   },
   "outputs": [
    {
     "data": {
      "text/plain": [
       "['../models/vectorizer_2.pkl']"
      ]
     },
     "execution_count": 12,
     "metadata": {},
     "output_type": "execute_result"
    }
   ],
   "source": [
    "model_path = Path(\"../models/model_2.pkl\")\n",
    "vectorizer_path = Path(\"../models/vectorizer_2.pkl\")\n",
    "joblib.dump(clf, model_path) \n",
    "joblib.dump(vectorizer, vectorizer_path)"
   ]
  },
  {
   "cell_type": "code",
   "execution_count": 13,
   "metadata": {
    "ExecuteTime": {
     "end_time": "2021-11-11T08:31:07.673904Z",
     "start_time": "2021-11-11T08:31:07.116559Z"
    }
   },
   "outputs": [],
   "source": [
    "w_indices = vectorizer.get_feature_names()\n",
    "w_indices.extend(feature_arr)\n",
    "all_feature_names = np.array(w_indices)"
   ]
  },
  {
   "cell_type": "code",
   "execution_count": 14,
   "metadata": {
    "ExecuteTime": {
     "end_time": "2021-11-11T08:31:12.848569Z",
     "start_time": "2021-11-11T08:31:12.704900Z"
    }
   },
   "outputs": [
    {
     "name": "stdout",
     "output_type": "stream",
     "text": [
      "상위 20개 중요도:\n",
      "\n",
      "num_chars: 0.0081\n",
      "num_diff_words: 0.0077\n",
      "num_periods: 0.0075\n",
      "ADJ: 0.0073\n",
      "ADV: 0.0071\n",
      "PUNCT: 0.0069\n",
      "num_questions: 0.0069\n",
      "num_words: 0.0068\n",
      "DET: 0.0066\n",
      "AUX: 0.0066\n",
      "NOUN: 0.0064\n",
      "num_commas: 0.0064\n",
      "VERB: 0.0062\n",
      "avg_word_len: 0.0058\n",
      "PRON: 0.0057\n",
      "num_stops: 0.0057\n",
      "PART: 0.0057\n",
      "polarity: 0.0056\n",
      "ADP: 0.0055\n",
      "SCONJ: 0.0053\n",
      "\n",
      "하위 20개 중요도:\n",
      "\n",
      "knees: 0\n",
      "prisoners: 0\n",
      "hurts: 0\n",
      "knight: 0\n",
      "bump: 0\n",
      "hurting: 0\n",
      "knit: 0\n",
      "exited: 0\n",
      "exotic: 0\n",
      "hunting: 0\n",
      "opposition: 0\n",
      "servant: 0\n",
      "buddy: 0\n",
      "insisted: 0\n",
      "treats: 0\n",
      "trends: 0\n",
      "trials: 0\n",
      "korean: 0\n",
      "prints: 0\n",
      "00: 0\n"
     ]
    }
   ],
   "source": [
    "k = 20\n",
    "print(\"상위 %s개 중요도:\\n\" % k)\n",
    "print('\\n'.join([\"%s: %.2g\" % (tup[0], tup[1]) for tup in get_feature_importance(clf, all_feature_names)[:k]]))\n",
    "\n",
    "print(\"\\n하위 %s개 중요도:\\n\" % k)\n",
    "print('\\n'.join([\"%s: %.2g\" % (tup[0], tup[1]) for tup in get_feature_importance(clf, all_feature_names)[-k:]]))\n"
   ]
  },
  {
   "cell_type": "code",
   "execution_count": 15,
   "metadata": {
    "ExecuteTime": {
     "end_time": "2021-11-11T08:32:00.988652Z",
     "start_time": "2021-11-11T08:32:00.597382Z"
    }
   },
   "outputs": [
    {
     "data": {
      "image/png": "[encoded data removed]",
      "text/plain": [
       "<Figure size 720x720 with 1 Axes>"
      ]
     },
     "metadata": {
      "needs_background": "light"
     },
     "output_type": "display_data"
    }
   ],
   "source": [
    "get_roc_plot(y_predicted_proba[:,1], y_test, figsize=(10,10))"
   ]
  },
  {
   "cell_type": "code",
   "execution_count": 16,
   "metadata": {
    "ExecuteTime": {
     "end_time": "2021-11-11T08:32:14.424389Z",
     "start_time": "2021-11-11T08:32:14.052993Z"
    }
   },
   "outputs": [
    {
     "name": "stderr",
     "output_type": "stream",
     "text": [
      "No handles with labels found to put in legend.\n"
     ]
    },
    {
     "name": "stdout",
     "output_type": "stream",
     "text": [
      "\tBrier: 0.235\n"
     ]
    },
    {
     "data": {
      "image/png": "[encoded data removed]",
      "text/plain": [
       "<Figure size 648x648 with 2 Axes>"
      ]
     },
     "metadata": {
      "needs_background": "light"
     },
     "output_type": "display_data"
    }
   ],
   "source": [
    "get_calibration_plot(y_predicted_proba[:,1], y_test, figsize=(9,9))"
   ]
  },
  {
   "cell_type": "code",
   "execution_count": 17,
   "metadata": {
    "ExecuteTime": {
     "end_time": "2021-11-11T08:32:25.577441Z",
     "start_time": "2021-11-11T08:32:25.168414Z"
    }
   },
   "outputs": [
    {
     "name": "stderr",
     "output_type": "stream",
     "text": [
      "100%|██████████| 1/1 [00:00<00:00, 98.52it/s]\n",
      "100%|██████████| 1/1 [00:00<00:00, 841.72it/s]"
     ]
    },
    {
     "name": "stdout",
     "output_type": "stream",
     "text": [
      "0.34 probability of the question receiving a high score according to our model\n"
     ]
    },
    {
     "name": "stderr",
     "output_type": "stream",
     "text": [
      "\n"
     ]
    }
   ],
   "source": [
    "pos_prob = get_question_score_from_input(\"\"\"\n",
    "When quoting a person's informal speech, how much liberty do you have to make changes to what they say?\n",
    "\"\"\")\n",
    "\n",
    "print(\"%s probability of the question receiving a high score according to our model\" % (pos_prob))"
   ]
  },
  {
   "cell_type": "code",
   "execution_count": null,
   "metadata": {},
   "outputs": [],
   "source": []
  }
 ],
 "metadata": {
  "kernelspec": {
   "display_name": "Python 3",
   "language": "python",
   "name": "python3"
  },
  "language_info": {
   "codemirror_mode": {
    "name": "ipython",
    "version": 3
   },
   "file_extension": ".py",
   "mimetype": "text/x-python",
   "name": "python",
   "nbconvert_exporter": "python",
   "pygments_lexer": "ipython3",
   "version": "3.8.5"
  },
  "toc": {
   "base_numbering": 1,
   "nav_menu": {},
   "number_sections": true,
   "sideBar": true,
   "skip_h1_title": false,
   "title_cell": "Table of Contents",
   "title_sidebar": "Contents",
   "toc_cell": false,
   "toc_position": {},
   "toc_section_display": true,
   "toc_window_display": false
  },
  "varInspector": {
   "cols": {
    "lenName": 16,
    "lenType": 16,
    "lenVar": 40
   },
   "kernels_config": {
    "python": {
     "delete_cmd_postfix": "",
     "delete_cmd_prefix": "del ",
     "library": "var_list.py",
     "varRefreshCmd": "print(var_dic_list())"
    },
    "r": {
     "delete_cmd_postfix": ") ",
     "delete_cmd_prefix": "rm(",
     "library": "var_list.r",
     "varRefreshCmd": "cat(var_dic_list()) "
    }
   },
   "types_to_exclude": [
    "module",
    "function",
    "builtin_function_or_method",
    "instance",
    "_Feature"
   ],
   "window_display": false
  }
 },
 "nbformat": 4,
 "nbformat_minor": 4
}
