{
  "nbformat": 4,
  "nbformat_minor": 0,
  "metadata": {
    "colab": {
      "name": "ml_editor.ipynb",
      "provenance": [],
      "collapsed_sections": [],
      "mount_file_id": "1XiM6f8G1cS7rimPAhczAp_1kJt0iYd5r",
      "authorship_tag": "ABX9TyNiKJXLbd/EzK2qPo4C+t68",
      "include_colab_link": true
    },
    "kernelspec": {
      "name": "python3",
      "display_name": "Python 3"
    },
    "language_info": {
      "name": "python"
    }
  },
  "cells": [
    {
      "cell_type": "markdown",
      "metadata": {
        "id": "view-in-github",
        "colab_type": "text"
      },
      "source": [
        "<a href=\"https://colab.research.google.com/github/johanjun/Building_ML_Powered_Applications/blob/main/ml_editor.ipynb\" target=\"_parent\"><img src=\"https://colab.research.google.com/assets/colab-badge.svg\" alt=\"Open In Colab\"/></a>"
      ]
    },
    {
      "cell_type": "code",
      "metadata": {
        "colab": {
          "base_uri": "https://localhost:8080/"
        },
        "id": "FMRMXHYoiiai",
        "outputId": "f183efcb-b0cb-4d9b-8ce0-f96adc446ef9"
      },
      "source": [
        "cd /content/drive/MyDrive/ml-powered-applications/practice/"
      ],
      "execution_count": 25,
      "outputs": [
        {
          "output_type": "stream",
          "name": "stdout",
          "text": [
            "/content/drive/MyDrive/ml-powered-applications/practice\n"
          ]
        }
      ]
    },
    {
      "cell_type": "code",
      "metadata": {
        "colab": {
          "base_uri": "https://localhost:8080/"
        },
        "id": "ilAJQEDmi1Kb",
        "outputId": "4f515f90-1860-4e20-99ae-bc94d3a086aa"
      },
      "source": [
        "ls"
      ],
      "execution_count": 26,
      "outputs": [
        {
          "output_type": "stream",
          "name": "stdout",
          "text": [
            "ml_editor.ipynb  ml_editor.py\n"
          ]
        }
      ]
    },
    {
      "cell_type": "code",
      "metadata": {
        "colab": {
          "base_uri": "https://localhost:8080/"
        },
        "id": "StgC12-Hk7kh",
        "outputId": "cad4d9bd-b7a8-4ee1-b64c-889122ade3ba"
      },
      "source": [
        "pip install pyphen"
      ],
      "execution_count": 32,
      "outputs": [
        {
          "output_type": "stream",
          "name": "stdout",
          "text": [
            "Collecting pyphen\n",
            "  Downloading pyphen-0.11.0-py3-none-any.whl (2.0 MB)\n",
            "\u001b[K     |████████████████████████████████| 2.0 MB 5.5 MB/s \n",
            "\u001b[?25hInstalling collected packages: pyphen\n",
            "Successfully installed pyphen-0.11.0\n"
          ]
        }
      ]
    },
    {
      "cell_type": "code",
      "metadata": {
        "colab": {
          "base_uri": "https://localhost:8080/"
        },
        "id": "2wft4idaiy7K",
        "outputId": "3e07c51b-1bf8-4ee1-dd05-4993df86d586"
      },
      "source": [
        "import argparse\n",
        "import logging\n",
        "import sys\n",
        "\n",
        "import pyphen\n",
        "import nltk\n",
        "nltk.download('punkt')"
      ],
      "execution_count": 37,
      "outputs": [
        {
          "output_type": "stream",
          "name": "stdout",
          "text": [
            "[nltk_data] Downloading package punkt to /root/nltk_data...\n",
            "[nltk_data]   Unzipping tokenizers/punkt.zip.\n"
          ]
        },
        {
          "output_type": "execute_result",
          "data": {
            "text/plain": [
              "True"
            ]
          },
          "metadata": {},
          "execution_count": 37
        }
      ]
    },
    {
      "cell_type": "code",
      "metadata": {
        "colab": {
          "base_uri": "https://localhost:8080/"
        },
        "id": "Rwz1GhDWhdFi",
        "outputId": "219d97c9-cff1-414d-da2f-9d7b7935929e"
      },
      "source": [
        "!python ml_editor.py \"Is this workflow any good?\""
      ],
      "execution_count": 41,
      "outputs": [
        {
          "output_type": "stream",
          "name": "stdout",
          "text": [
            "단어 사용량: 0 told/said, 0 but/and, 0 wh-접속사\n",
            "평균 단어 길이 3.67, 고유한 단어의 비율 1.00\n",
            "6개 음절, 5개 단어, 1개 문장\n",
            "플레시 점수 100.26: 매우 읽기 쉬움\n"
          ]
        }
      ]
    },
    {
      "cell_type": "code",
      "metadata": {
        "colab": {
          "base_uri": "https://localhost:8080/"
        },
        "id": "BnOUAC9Wk5ip",
        "outputId": "aa8dba84-b60f-42db-f743-c0be8e542e99"
      },
      "source": [
        "!python ml_editor.py \"Here is a needlessly obscure question, that\"\\\n",
        "\"does not provide clearly which information it would\"\\\n",
        "\"like to acquire, does it?\""
      ],
      "execution_count": 42,
      "outputs": [
        {
          "output_type": "stream",
          "name": "stdout",
          "text": [
            "단어 사용량: 0 told/said, 0 but/and, 0 wh-접속사\n",
            "평균 단어 길이 4.86, 고유한 단어의 비율 0.90\n",
            "30개 음절, 18개 단어, 1개 문장\n",
            "플레시 점수 47.58: 읽기 어려움\n"
          ]
        }
      ]
    },
    {
      "cell_type": "code",
      "metadata": {
        "colab": {
          "base_uri": "https://localhost:8080/"
        },
        "id": "QKwg4-4gl2fY",
        "outputId": "5e9eb26c-194f-48f1-f927-680cab47d2f0"
      },
      "source": [
        "!python ml_editor.py \"I lost Password. What do?\""
      ],
      "execution_count": 43,
      "outputs": [
        {
          "output_type": "stream",
          "name": "stdout",
          "text": [
            "단어 사용량: 0 told/said, 0 but/and, 0 wh-접속사\n",
            "평균 단어 길이 2.92, 고유한 단어의 비율 1.00\n",
            "6개 음절, 5개 단어, 2개 문장\n",
            "플레시 점수 102.79: 매우 읽기 쉬움\n"
          ]
        }
      ]
    },
    {
      "cell_type": "code",
      "metadata": {
        "id": "bDx_brflmcQ1"
      },
      "source": [
        ""
      ],
      "execution_count": null,
      "outputs": []
    }
  ]
}